{
 "cells": [
  {
   "cell_type": "code",
   "execution_count": 1,
   "metadata": {},
   "outputs": [
    {
     "name": "stdout",
     "output_type": "stream",
     "text": [
      "Collecting matplotlib\n",
      "  Downloading matplotlib-3.3.3-cp36-cp36m-win_amd64.whl (8.5 MB)\n",
      "Requirement already satisfied: pyparsing!=2.0.4,!=2.1.2,!=2.1.6,>=2.0.3 in c:\\users\\16236\\.conda\\envs\\css600\\lib\\site-packages (from matplotlib) (2.4.7)\n",
      "Requirement already satisfied: python-dateutil>=2.1 in c:\\users\\16236\\.conda\\envs\\css600\\lib\\site-packages (from matplotlib) (2.8.1)\n",
      "Collecting cycler>=0.10\n",
      "  Downloading cycler-0.10.0-py2.py3-none-any.whl (6.5 kB)\n",
      "Requirement already satisfied: six in c:\\users\\16236\\.conda\\envs\\css600\\lib\\site-packages (from cycler>=0.10->matplotlib) (1.15.0)\n",
      "Collecting kiwisolver>=1.0.1\n",
      "  Downloading kiwisolver-1.3.1-cp36-cp36m-win_amd64.whl (51 kB)\n",
      "Collecting numpy>=1.15\n",
      "  Downloading numpy-1.19.4-cp36-cp36m-win_amd64.whl (12.9 MB)\n",
      "Collecting pillow>=6.2.0\n",
      "  Downloading Pillow-8.0.1-cp36-cp36m-win_amd64.whl (2.1 MB)\n",
      "Requirement already satisfied: six in c:\\users\\16236\\.conda\\envs\\css600\\lib\\site-packages (from cycler>=0.10->matplotlib) (1.15.0)\n",
      "Installing collected packages: pillow, numpy, kiwisolver, cycler, matplotlib\n",
      "Successfully installed cycler-0.10.0 kiwisolver-1.3.1 matplotlib-3.3.3 numpy-1.19.4 pillow-8.0.1\n"
     ]
    }
   ],
   "source": [
    "! pip install matplotlib"
   ]
  },
  {
   "cell_type": "code",
   "execution_count": 16,
   "metadata": {},
   "outputs": [],
   "source": [
    "import csv\n",
    "import matplotlib.pyplot as plt"
   ]
  },
  {
   "cell_type": "code",
   "execution_count": 5,
   "metadata": {},
   "outputs": [
    {
     "name": "stdout",
     "output_type": "stream",
     "text": [
      "271\n"
     ]
    }
   ],
   "source": [
    "f = 'fire_sim.csv'\n",
    "rows = []\n",
    "with open(f, 'r') as csvfile: \n",
    "    csvreader = csv.reader(csvfile) \n",
    "    for row in csvreader:\n",
    "        rows.append(row)\n",
    "print(len(rows))"
   ]
  },
  {
   "cell_type": "code",
   "execution_count": 13,
   "metadata": {},
   "outputs": [
    {
     "name": "stdout",
     "output_type": "stream",
     "text": [
      "{'chokepoint_1_a.map': [981.0, 991.0, 993.0, 992.0, 956.0, 969.0, 1005.0, 1010.0, 976.0, 1019.0], 'chokepoint_1_b.map': [1171.0, 1168.0, 1191.0, 1164.0, 1186.0, 1165.0, 1185.0, 1160.0, 1163.0, 1169.0], 'chokepoint_1_c.map': [1199.0, 1236.0, 1216.0, 1228.0, 1207.0, 1208.0, 1250.0, 1223.0, 1200.0, 1226.0], 'chokepoint_1_d.map': [1198.0, 1211.0, 1236.0, 1222.0, 1237.0, 1213.0, 1236.0, 1243.0, 1218.0, 1224.0], 'chokepoint_1_e.map': [1202.0, 1205.0, 1208.0, 1201.0, 1203.0, 1219.0, 1245.0, 1202.0, 1186.0, 1197.0], 'chokepoint_1_f.map': [1181.0, 1220.0, 1203.0, 1182.0, 1204.0, 1203.0, 1206.0, 1190.0, 1197.0, 1210.0], 'chokepoint_2_a.map': [815.0, 799.0, 797.0, 787.0, 785.0, 801.0, 815.0, 811.0, 803.0, 803.0], 'chokepoint_2_b.map': [998.0, 985.0, 1003.0, 1005.0, 985.0, 981.0, 991.0, 1009.0, 964.0, 976.0], 'chokepoint_2_c.map': [1057.0, 1058.0, 1067.0, 1054.0, 1075.0, 1061.0, 1064.0, 1093.0, 1050.0, 1063.0], 'chokepoint_2_d.map': [1062.0, 1061.0, 1058.0, 1052.0, 1041.0, 1060.0, 1065.0, 1063.0, 1062.0, 1082.0], 'chokepoint_2_e.map': [1030.0, 1041.0, 1053.0, 1029.0, 1054.0, 1037.0, 1035.0, 1032.0, 1040.0, 1036.0], 'chokepoint_3_a.map': [696.0, 705.0, 759.0, 750.0, 784.0, 733.0, 758.0, 774.0, 712.0, 734.0], 'chokepoint_3_b.map': [870.0, 878.0, 879.0, 882.0, 893.0, 884.0, 890.0, 902.0, 869.0, 896.0], 'chokepoint_3_c.map': [922.0, 912.0, 928.0, 905.0, 896.0, 909.0, 924.0, 925.0, 915.0, 929.0], 'chokepoint_3_d.map': [914.0, 912.0, 917.0, 908.0, 893.0, 907.0, 923.0, 920.0, 905.0, 925.0]}\n"
     ]
    }
   ],
   "source": [
    "#get chokepoint values - name:[scores]\n",
    "\n",
    "cpscores =[(float(row[17]), row[2]) for row in rows if 'chokepoint' in row[2]]\n",
    "d ={}\n",
    "for score, name in cpscores:\n",
    "    if name not in d:\n",
    "        d[name] = []\n",
    "    d[name].append(score)    \n",
    "print(d)\n"
   ]
  },
  {
   "cell_type": "code",
   "execution_count": 22,
   "metadata": {},
   "outputs": [
    {
     "data": {
      "image/png": "[encoded data removed]",
      "text/plain": [
       "<Figure size 432x288 with 1 Axes>"
      ]
     },
     "metadata": {
      "needs_background": "light"
     },
     "output_type": "display_data"
    }
   ],
   "source": [
    "#plot with errobar\n",
    "X=['a','b','c','d','e','f']\n",
    "linevars ={\n",
    "    'chokepoint_1':X,\n",
    "    'chokepoint_2':X[:-1],\n",
    "    'chokepoint_3':X[:-2]\n",
    "}\n",
    "\n",
    "for groupname,line in linevars.items():       \n",
    "    Y=[]\n",
    "    E=[]\n",
    "    for l in line:\n",
    "        mapname = groupname+'_'+l+'.map'\n",
    "        scores = d[mapname]\n",
    "        y = sum(scores)/len(scores)\n",
    "        negerror = y -min(scores)\n",
    "        poserror = max(scores)-y\n",
    "        Y.append(y)\n",
    "        E.append([negerror,poserror])  \n",
    "    \n",
    "    #Transpose \n",
    "    E = list(map(list, zip(*E))) \n",
    "    plt.errorbar(line,Y, yerr=E, label=groupname )\n",
    "\n",
    "plt.legend()\n",
    "plt.savefig('chokepoint_graph.png')\n",
    "plt.show()\n"
   ]
  },
  {
   "cell_type": "code",
   "execution_count": 23,
   "metadata": {},
   "outputs": [
    {
     "name": "stdout",
     "output_type": "stream",
     "text": [
      "{'exit_dims_2_a.map': [507.0, 476.0, 503.0, 494.0, 486.0, 484.0, 484.0, 502.0, 471.0, 486.0], 'exit_dims_2_b.map': [469.0, 470.0, 471.0, 468.0, 501.0, 482.0, 490.0, 473.0, 467.0, 504.0], 'exit_dims_2_c.map': [479.0, 478.0, 493.0, 468.0, 480.0, 496.0, 529.0, 507.0, 489.0, 498.0], 'exit_dims_4_a.map': [348.0, 349.0, 353.0, 349.0, 380.0, 364.0, 373.0, 368.0, 352.0, 356.0], 'exit_dims_4_b.map': [321.0, 342.0, 313.0, 325.0, 341.0, 341.0, 317.0, 330.0, 312.0, 325.0], 'exit_dims_4_c.map': [336.0, 328.0, 334.0, 352.0, 347.0, 349.0, 358.0, 362.0, 351.0, 351.0], 'exit_dims_6_a.map': [296.0, 297.0, 306.0, 300.0, 298.0, 305.0, 293.0, 304.0, 295.0, 303.0], 'exit_dims_6_b.map': [267.0, 267.0, 265.0, 269.0, 267.0, 268.0, 263.0, 267.0, 267.0, 271.0], 'exit_dims_6_c.map': [269.0, 289.0, 279.0, 267.0, 272.0, 278.0, 277.0, 258.0, 286.0, 269.0], 'exit_dims_8_a.map': [270.0, 270.0, 274.0, 263.0, 269.0, 266.0, 270.0, 276.0, 283.0, 274.0], 'exit_dims_8_b.map': [223.0, 234.0, 240.0, 240.0, 230.0, 239.0, 239.0, 237.0, 227.0, 225.0], 'exit_dims_8_c.map': [229.0, 242.0, 242.0, 237.0, 239.0, 232.0, 241.0, 232.0, 233.0, 240.0]}\n"
     ]
    }
   ],
   "source": [
    "#get exit dims values - name:[scores]\n",
    "\n",
    "edscores =[(float(row[17]), row[2]) for row in rows if 'exit_dims' in row[2]]\n",
    "d ={}\n",
    "for score, name in edscores:\n",
    "    if name not in d:\n",
    "        d[name] = []\n",
    "    d[name].append(score)    \n",
    "print(d)\n"
   ]
  },
  {
   "cell_type": "code",
   "execution_count": 28,
   "metadata": {},
   "outputs": [
    {
     "data": {
      "image/png": "[encoded data removed]",
      "text/plain": [
       "<Figure size 432x288 with 1 Axes>"
      ]
     },
     "metadata": {
      "needs_background": "light"
     },
     "output_type": "display_data"
    }
   ],
   "source": [
    "#plot with errobar\n",
    "X=['a','b','c']\n",
    "linevars =[\n",
    "    'exit_dims_2',\n",
    "    'exit_dims_4',\n",
    "    'exit_dims_6',\n",
    "    'exit_dims_8',\n",
    "\n",
    "]\n",
    "for groupname in linevars:       \n",
    "    Y=[]\n",
    "    E=[]\n",
    "    for l in X:\n",
    "        mapname = groupname+'_'+l+'.map'\n",
    "        scores = d[mapname]\n",
    "        y = sum(scores)/len(scores)\n",
    "        negerror = y -min(scores)\n",
    "        poserror = max(scores)-y\n",
    "        Y.append(y)\n",
    "        E.append([negerror,poserror])  \n",
    "        \n",
    "    #Transpose     \n",
    "    E = list(map(list, zip(*E))) \n",
    "    plt.errorbar(X,Y, yerr=E, label=groupname )\n",
    "\n",
    "\n",
    "\n",
    "plt.legend(loc='lower center', bbox_to_anchor=(0.5, 1.05),\n",
    "          ncol=3, fancybox=True, shadow=True)\n",
    "\n",
    "plt.savefig('exit_dims_graph.png')\n",
    "plt.show()\n"
   ]
  }
 ],
 "metadata": {
  "kernelspec": {
   "display_name": "Python 3",
   "language": "python",
   "name": "python3"
  },
  "language_info": {
   "codemirror_mode": {
    "name": "ipython",
    "version": 3
   },
   "file_extension": ".py",
   "mimetype": "text/x-python",
   "name": "python",
   "nbconvert_exporter": "python",
   "pygments_lexer": "ipython3",
   "version": "3.6.12"
  }
 },
 "nbformat": 4,
 "nbformat_minor": 4
}
