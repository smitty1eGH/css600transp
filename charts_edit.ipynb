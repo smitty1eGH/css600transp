    "import csv\n",
    "import matplotlib.pyplot as plt"
    "f = 'fire_sim.csv'\n",
    "rows = []\n",
    "with open(f, 'r') as csvfile: \n",
    "    csvreader = csv.reader(csvfile) \n",
    "    for row in csvreader:\n",
    "        rows.append(row)\n",
    "print(len(rows))"
    "#get chokepoint values - name:[scores]\n",
    "\n",
    "cpscores =[(float(row[17]), row[2]) for row in rows if 'chokepoint' in row[2]]\n",
    "d ={}\n",
    "for score, name in cpscores:\n",
    "    if name not in d:\n",
    "        d[name] = []\n",
    "    d[name].append(score)    \n",
    "print(d)\n"
    "#plot with errobar\n",
    "X=['a','b','c','d','e','f']\n",
linevars ={
    'chokepoint_1':X,
    'chokepoint_2':X[:-1]
    'chokepoint_3':X[:-2]
for groupname, line in linevars.items():
    Y=[]
    E=[]
    for l in line:
        mapname  = groupname + '_' + l + '.map'
        scores   = d[mapname]
        y        = sum(scores) / len(scores)
        negerror = y - min(scores)
        poserror = max(scores)-y
        Y.append(y)
        E.append([ negerror, poserror ])
    #Transpose
    E = list( map(list, zip(*E)))
    plt.errorbar(line, Y , yerr=E , label = groupname )
plt.legend()
plt.savefig('chokepoint_graph.png')
plt.show()

    "#get exit dims values - name:[scores]\n",
    "\n",
    "edscores =[(float(row[17]), row[2]) for row in rows if 'exit_dims' in row[2]]\n",
    "d ={}\n",
    "for score, name in edscores:\n",
    "    if name not in d:\n",
    "        d[name] = []\n",
    "    d[name].append(score)    \n",
    "print(d)\n"
#plot with errobar
X=['a','b','c']
linevars =[
    'exit_dims_2',
    'exit_dims_4',
    'exit_dims_6',
    'exit_dims_8',
]
for groupname in linevars:
    Y=[]
    E=[]
    for l in X:
        mapname = groupname+'_'+l+'.map'
        scores = d[mapname]
        y = sum(scores)/len(scores)
        negerror = y -min(scores)
        poserror = max(scores)-y
        Y.append(y)
        E.append([negerror,poserror])
    #Transpose
    E = list(map(list, zip(*E)))
    plt.errorbar(X,Y, yerr=E, label=groupname )
plt.legend(loc='lower center', bbox_to_anchor=(0.5, 1.05),
          ncol=3, fancybox=True, shadow=True)
plt.savefig('exit_dims_graph.png')
plt.show()
